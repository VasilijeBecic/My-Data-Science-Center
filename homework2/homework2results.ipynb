{
  "nbformat": 4,
  "nbformat_minor": 0,
  "metadata": {
    "colab": {
      "name": "Untitled1.ipynb",
      "provenance": [],
      "collapsed_sections": []
    },
    "kernelspec": {
      "name": "python3",
      "display_name": "Python 3"
    },
    "language_info": {
      "name": "python"
    }
  },
  "cells": [
    {
      "cell_type": "code",
      "execution_count": 1,
      "metadata": {
        "colab": {
          "base_uri": "https://localhost:8080/"
        },
        "id": "luMWyXqcRdfP",
        "outputId": "d8e21a00-7df1-4abd-ffaf-c9a260ca26ce"
      },
      "outputs": [
        {
          "output_type": "stream",
          "name": "stdout",
          "text": [
            "Collecting pysam\n",
            "  Downloading pysam-0.19.0-cp37-cp37m-manylinux_2_12_x86_64.manylinux2010_x86_64.whl (15.0 MB)\n",
            "\u001b[K     |████████████████████████████████| 15.0 MB 5.2 MB/s \n",
            "\u001b[?25hInstalling collected packages: pysam\n",
            "Successfully installed pysam-0.19.0\n"
          ]
        }
      ],
      "source": [
        "pip install pysam"
      ]
    },
    {
      "cell_type": "markdown",
      "source": [
        "Function"
      ],
      "metadata": {
        "id": "8y2ZO1ExRgp3"
      }
    },
    {
      "cell_type": "code",
      "source": [
        "import pysam as ps\n",
        "\n",
        "file_path = './merged-tumor.bam'\n",
        "\n",
        "count_reads = 0\n",
        "count_unmapped = 0\n",
        "count_quality_zero = 0\n",
        "sum_quality = 0\n",
        "sum_filtered = 0\n",
        "  \n",
        "fasta = ps.AlignmentFile(file_path)\n",
        "\n",
        "counter = 0\n",
        "\n",
        "for read in fasta:\n",
        "  # No need to print them all, so after 10th...\n",
        "  if counter == 0:\n",
        "    print(read)\n",
        "    print(\"\")\n",
        "    print(read.flag)\n",
        "    counter += 10\n",
        "    \n",
        "  if counter == 10:\n",
        "    print(read.flag)\n",
        "    counter += 1\n",
        "\n",
        "  # Main work\n",
        "  if read.flag & 4:\n",
        "      count_unmapped += 1\n",
        "\n",
        "  count_reads += 1\n",
        "  quality = read.mapping_quality\n",
        "\n",
        "  if read.mapping_quality == 0:\n",
        "      count_quality_zero += 1\n",
        "  else:\n",
        "      sum_filtered += quality\n",
        "\n",
        "  sum_quality += quality\n",
        "\n",
        "\n",
        "# Additional calculations\n",
        "avg_quality = sum_quality / count_reads\n",
        "avg_filtered_quality = sum_filtered /(count_reads - count_quality_zero)\n",
        "\n",
        "print(\"\")\n",
        "print(\"\")\n",
        "print(\"CALCULATIONS:\")\n",
        "print(\"Num. of unmapped reads: \", count_unmapped)\n",
        "print(\"Num. of reads: \", count_reads)\n",
        "print(\"Num. of reads with mapping quality of 0: \", count_quality_zero)\n",
        "print(\"Avg. mapping quality: \", avg_quality)\n",
        "print(\"Avg. mapping quality when reads with quality of 0 are filtered out: \", avg_filtered_quality)"
      ],
      "metadata": {
        "colab": {
          "base_uri": "https://localhost:8080/"
        },
        "id": "Y2rXWWUCRjoX",
        "outputId": "2e8825e9-ad94-49ca-b3db-c43b330c7b49"
      },
      "execution_count": 2,
      "outputs": [
        {
          "output_type": "stream",
          "name": "stdout",
          "text": [
            "C0HVYACXX120402:7:1207:5722:57044\t1187\t#20\t9483249\t27\t76M\t#20\t9483382\t209\tTTTTCAAACAGTATCTATGCCTGCCAAATGTGAACATATAAAAAAAAACCAGAATGTGCCATTCTGATTTAAACTG\tarray('B', [28, 28, 27, 29, 31, 30, 31, 31, 29, 31, 35, 30, 29, 31, 34, 30, 29, 23, 41, 32, 20, 30, 29, 34, 34, 29, 30, 31, 30, 30, 30, 33, 33, 26, 39, 12, 25, 19, 32, 30, 35, 28, 35, 33, 23, 33, 35, 36, 30, 38, 33, 41, 34, 35, 31, 33, 23, 30, 30, 36, 27, 32, 29, 34, 35, 41, 33, 31, 33, 29, 32, 32, 31, 31, 31, 34])\t[('XA', 'GL000217.1,-110754,76M,1;'), ('BD', 'NNNNNNNNNNNNNNNNNNNNNNNNNNNNNNNNNNNNNNNNNNNNNNNNNNNNNNNNNNNNNNNNNNNNNNNNNNNN'), ('MD', '76'), ('RG', '1'), ('BI', 'NNNNNNNNNNNNNNNNNNNNNNNNNNNNNNNNNNNNNNNNNNNNNNNNNNNNNNNNNNNNNNNNNNNNNNNNNNNN'), ('NM', 0), ('MQ', 27), ('AS', 76), ('XS', 71)]\n",
            "\n",
            "1187\n",
            "1187\n",
            "\n",
            "\n",
            "CALCULATIONS:\n",
            "Num. of unmapped reads:  17765\n",
            "Num. of reads:  2921629\n",
            "Num. of reads with mapping quality of 0:  126628\n",
            "Avg. mapping quality:  55.91379158681681\n",
            "Avg. mapping quality when reads with quality of 0 are filtered out:  58.446975510921106\n"
          ]
        }
      ]
    }
  ]
}